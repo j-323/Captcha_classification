{
 "cells": [
  {
   "cell_type": "code",
   "execution_count": 1,
   "metadata": {},
   "outputs": [],
   "source": [
    "import numpy as np\n",
    "import torch\n",
    "import torch.nn as nn\n",
    "import torch.optim as optim\n",
    "from torch.utils.data import DataLoader, Dataset, random_split\n",
    "import torchvision.transforms as transforms\n",
    "import torch.nn.functional as F\n",
    "import torchvision.models as models\n",
    "import pandas as pd"
   ]
  },
  {
   "cell_type": "code",
   "execution_count": 2,
   "metadata": {},
   "outputs": [],
   "source": [
    "import warnings\n",
    "warnings.filterwarnings(\"ignore\")"
   ]
  },
  {
   "cell_type": "code",
   "execution_count": 6,
   "metadata": {},
   "outputs": [],
   "source": [
    "# загрузка данных\n",
    "images = np.load('images.npy')\n",
    "labels = np.load('labels.npy')\n",
    "images_sub = np.load('images_sub.npy')\n",
    "\n",
    "# нормализация данных\n",
    "images = images / 255.0\n",
    "images_sub = images_sub / 255.0\n",
    "\n",
    "# перевод разметки в тензоры\n",
    "labels = torch.tensor(labels, dtype=torch.long)"
   ]
  },
  {
   "cell_type": "code",
   "execution_count": 3,
   "metadata": {},
   "outputs": [],
   "source": [
    "# создание класса подготовки данных к обучению\n",
    "class AlphabetDataset(Dataset):\n",
    "    def __init__(self, images, labels=None, transform=None):\n",
    "        self.images = images\n",
    "        self.labels = labels\n",
    "        self.transform = transform\n",
    "\n",
    "    def __len__(self):\n",
    "        return len(self.images)\n",
    "\n",
    "    def __getitem__(self, idx):\n",
    "        image = self.images[idx]\n",
    "        image = torch.tensor(image, dtype=torch.float32).permute(2, 0, 1)  # Преобразование к (C, H, W)\n",
    "        \n",
    "        if self.labels is not None:\n",
    "            label = self.labels[idx]\n",
    "            return image, label\n",
    "        else:\n",
    "            return image"
   ]
  },
  {
   "cell_type": "code",
   "execution_count": 8,
   "metadata": {},
   "outputs": [],
   "source": [
    "# аугментация тренеровочных данных\n",
    "transform_train = transforms.Compose([\n",
    "    transforms.RandomResizedCrop(48, scale=(0.8, 1.0)),\n",
    "    transforms.RandomHorizontalFlip(),\n",
    "    transforms.RandomVerticalFlip(),\n",
    "    transforms.ColorJitter(brightness=0.2, contrast=0.2, saturation=0.2, hue=0.1),\n",
    "    transforms.RandomRotation(degrees=15),\n",
    "    transforms.RandomPerspective(distortion_scale=0.3, p=0.5),\n",
    "    transforms.RandomAffine(degrees=0, translate=(0.1, 0.1), scale=None, shear=10),\n",
    "    transforms.ToTensor(),\n",
    "    transforms.Normalize(mean=[0.485, 0.456, 0.406], std=[0.229, 0.224, 0.225]),\n",
    "    transforms.RandomErasing(p=0.5, scale=(0.02, 0.33), ratio=(0.3, 3.3))\n",
    "])\n",
    "\n",
    "# # аугментация тестовых данных данных\n",
    "transform_test = transforms.Compose([\n",
    "    transforms.Resize(64),  # \n",
    "    transforms.CenterCrop(48),  \n",
    "    transforms.ToTensor(),\n",
    "    transforms.Normalize(mean=[0.485, 0.456, 0.406], std=[0.229, 0.224, 0.225])\n",
    "])"
   ]
  },
  {
   "cell_type": "code",
   "execution_count": 9,
   "metadata": {},
   "outputs": [],
   "source": [
    "# создание датасетов\n",
    "train_dataset = AlphabetDataset(images, labels, transform=transform_train)\n",
    "test_dataset = AlphabetDataset(images_sub, transform=transform_test)\n",
    "\n",
    "# разделение датасета на тренировочную и валидационную выборки\n",
    "train_size = int(0.82 * len(train_dataset))\n",
    "val_size = len(train_dataset) - train_size\n",
    "train_dataset, val_dataset = random_split(train_dataset, [train_size, val_size])\n",
    "\n",
    "# создание DataLoader\n",
    "train_loader = DataLoader(train_dataset, batch_size=64, shuffle=True)\n",
    "val_loader = DataLoader(val_dataset, batch_size=64, shuffle=False)\n",
    "test_loader = DataLoader(test_dataset, batch_size=64, shuffle=False)"
   ]
  },
  {
   "cell_type": "code",
   "execution_count": 6,
   "metadata": {},
   "outputs": [],
   "source": [
    "# перевод вычислений на gpu\n",
    "device = torch.device(\"cuda\" if torch.cuda.is_available() else \"cpu\")"
   ]
  },
  {
   "cell_type": "code",
   "execution_count": 4,
   "metadata": {},
   "outputs": [],
   "source": [
    "#Создание класса модели на основе densenet201\n",
    "\n",
    "class DenseNet201(nn.Module):\n",
    "    def __init__(self):\n",
    "        super(DenseNet201, self).__init__()\n",
    "        self.base_model = models.densenet201(pretrained=True)\n",
    "        num_features = self.base_model.classifier.in_features\n",
    "        self.base_model.classifier = nn.Linear(num_features, 26)  # 26 - количество классов\n",
    "\n",
    "    def forward(self, x):\n",
    "        x = self.base_model(x)\n",
    "        return x"
   ]
  },
  {
   "cell_type": "code",
   "execution_count": 7,
   "metadata": {},
   "outputs": [],
   "source": [
    "# инициализация модели, выбор оптимизатора\n",
    "model = DenseNet201().to(device)\n",
    "criterion = nn.CrossEntropyLoss()\n",
    "optimizer = optim.Adam(model.parameters(), lr=0.0007, weight_decay=1e-4)"
   ]
  },
  {
   "cell_type": "code",
   "execution_count": 13,
   "metadata": {},
   "outputs": [],
   "source": [
    "# обучение модели\n",
    "def train(model, train_loader, criterion, optimizer, epoch, device):\n",
    "    model.train()\n",
    "    running_loss = 0.0\n",
    "    correct = 0\n",
    "    total = 0\n",
    "\n",
    "    for batch_idx, (inputs, targets) in enumerate(train_loader):\n",
    "        inputs, targets = inputs.to(device), targets.to(device)\n",
    "        optimizer.zero_grad()\n",
    "        outputs = model(inputs)\n",
    "        loss = criterion(outputs, targets)\n",
    "        loss.backward()\n",
    "        optimizer.step()\n",
    "\n",
    "        running_loss += loss.item()\n",
    "        _, predicted = outputs.max(1)\n",
    "        total += targets.size(0)\n",
    "        correct += predicted.eq(targets).sum().item()\n",
    "\n",
    "    avg_loss = running_loss / len(train_loader)\n",
    "    accuracy = 100. * correct / total\n",
    "    print(f'Epoch: {epoch}, Loss: {avg_loss:.2f}, Accuracy: {accuracy:.2f}%')"
   ]
  },
  {
   "cell_type": "code",
   "execution_count": 14,
   "metadata": {},
   "outputs": [],
   "source": [
    "# валидация модели\n",
    "def validate(model, val_loader, criterion, device):\n",
    "    model.eval()\n",
    "    running_loss = 0.0\n",
    "    correct = 0\n",
    "    total = 0\n",
    "\n",
    "    with torch.no_grad():\n",
    "        for batch_idx, (inputs, targets) in enumerate(val_loader):\n",
    "            inputs, targets = inputs.to(device), targets.to(device)\n",
    "            outputs = model(inputs)\n",
    "            loss = criterion(outputs, targets)\n",
    "            running_loss += loss.item()\n",
    "            _, predicted = outputs.max(1)\n",
    "            total += targets.size(0)\n",
    "            correct += predicted.eq(targets).sum().item()\n",
    "\n",
    "    avg_loss = running_loss / len(val_loader)\n",
    "    accuracy = 100. * correct / total\n",
    "    print(f'Val_Loss: {avg_loss:.2f}, Accuracy: {accuracy:.2f}%')"
   ]
  },
  {
   "cell_type": "code",
   "execution_count": 15,
   "metadata": {},
   "outputs": [
    {
     "name": "stdout",
     "output_type": "stream",
     "text": [
      "Epoch: 0, Loss: 1.24, Accuracy: 62.55%\n",
      "Val_Loss: 0.66, Accuracy: 80.42%\n",
      "Epoch: 1, Loss: 0.44, Accuracy: 86.79%\n",
      "Val_Loss: 0.37, Accuracy: 89.11%\n",
      "Epoch: 2, Loss: 0.30, Accuracy: 90.93%\n",
      "Val_Loss: 0.27, Accuracy: 91.47%\n",
      "Epoch: 3, Loss: 0.23, Accuracy: 92.60%\n",
      "Val_Loss: 0.28, Accuracy: 91.22%\n",
      "Epoch: 4, Loss: 0.16, Accuracy: 95.13%\n",
      "Val_Loss: 0.37, Accuracy: 90.14%\n",
      "Epoch: 5, Loss: 0.15, Accuracy: 95.34%\n",
      "Val_Loss: 0.31, Accuracy: 91.19%\n",
      "Epoch: 6, Loss: 0.13, Accuracy: 95.90%\n",
      "Val_Loss: 0.26, Accuracy: 92.31%\n",
      "Epoch: 7, Loss: 0.13, Accuracy: 95.91%\n",
      "Val_Loss: 0.22, Accuracy: 93.33%\n",
      "Epoch: 8, Loss: 0.09, Accuracy: 97.12%\n",
      "Val_Loss: 0.29, Accuracy: 91.56%\n",
      "Epoch: 9, Loss: 0.08, Accuracy: 97.54%\n",
      "Val_Loss: 0.27, Accuracy: 92.39%\n",
      "Epoch: 10, Loss: 0.08, Accuracy: 97.53%\n",
      "Val_Loss: 0.40, Accuracy: 89.86%\n",
      "Epoch: 11, Loss: 0.07, Accuracy: 97.67%\n",
      "Val_Loss: 0.23, Accuracy: 93.39%\n",
      "Epoch: 12, Loss: 0.06, Accuracy: 98.21%\n",
      "Val_Loss: 0.26, Accuracy: 92.28%\n",
      "Epoch: 13, Loss: 0.07, Accuracy: 97.82%\n",
      "Val_Loss: 0.24, Accuracy: 93.19%\n",
      "Epoch: 14, Loss: 0.05, Accuracy: 98.27%\n",
      "Val_Loss: 0.25, Accuracy: 93.17%\n"
     ]
    }
   ],
   "source": [
    "# запуск процесса обучения модели\n",
    "num_epochs = 15\n",
    "for epoch in range(num_epochs):\n",
    "    train(model, train_loader, criterion, optimizer, epoch, device)\n",
    "    validate(model, val_loader, criterion, device)"
   ]
  },
  {
   "cell_type": "code",
   "execution_count": 16,
   "metadata": {},
   "outputs": [],
   "source": [
    "# предсказание результатов для тестовой выборки\n",
    "def predict(model, test_loader, device):\n",
    "    model.eval()\n",
    "    predictions = []\n",
    "\n",
    "    with torch.no_grad():\n",
    "        for inputs in test_loader:\n",
    "            inputs = inputs.to(device)\n",
    "            outputs = model(inputs)\n",
    "            _, predicted = outputs.max(1)\n",
    "            predictions.extend(predicted.cpu().numpy())\n",
    "\n",
    "    return predictions\n",
    "\n",
    "predictions = predict(model, test_loader, device)\n",
    "\n",
    "# сохранение резултатов\n",
    "submission = pd.DataFrame({'Id': np.arange(len(predictions)), 'Category': predictions})\n",
    "submission.to_csv('submission.csv', index=False)"
   ]
  }
 ],
 "metadata": {
  "kernelspec": {
   "display_name": "Python 3",
   "language": "python",
   "name": "python3"
  },
  "language_info": {
   "codemirror_mode": {
    "name": "ipython",
    "version": 3
   },
   "file_extension": ".py",
   "mimetype": "text/x-python",
   "name": "python",
   "nbconvert_exporter": "python",
   "pygments_lexer": "ipython3",
   "version": "3.11.5"
  }
 },
 "nbformat": 4,
 "nbformat_minor": 2
}
